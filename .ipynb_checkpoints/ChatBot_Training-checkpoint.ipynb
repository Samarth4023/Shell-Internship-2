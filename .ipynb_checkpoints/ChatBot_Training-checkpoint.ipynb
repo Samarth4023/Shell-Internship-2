{
 "cells": [
  {
   "cell_type": "code",
   "execution_count": 1,
   "metadata": {
    "execution": {
     "iopub.execute_input": "2025-03-13T10:03:08.356914Z",
     "iopub.status.busy": "2025-03-13T10:03:08.356580Z",
     "iopub.status.idle": "2025-03-13T10:03:08.533121Z",
     "shell.execute_reply": "2025-03-13T10:03:08.532252Z",
     "shell.execute_reply.started": "2025-03-13T10:03:08.356884Z"
    }
   },
   "outputs": [],
   "source": [
    "from kaggle_secrets import UserSecretsClient\n",
    "user_secrets = UserSecretsClient()\n",
    "secret_value_0 = user_secrets.get_secret(\"HF_Token\")"
   ]
  },
  {
   "cell_type": "code",
   "execution_count": 2,
   "metadata": {
    "_cell_guid": "b1076dfc-b9ad-4769-8c92-a6c4dae69d19",
    "_uuid": "8f2839f25d086af736a60e9eeb907d3b93b6e0e5",
    "execution": {
     "iopub.execute_input": "2025-03-13T10:03:08.534578Z",
     "iopub.status.busy": "2025-03-13T10:03:08.534321Z",
     "iopub.status.idle": "2025-03-13T10:14:01.403519Z",
     "shell.execute_reply": "2025-03-13T10:14:01.402735Z",
     "shell.execute_reply.started": "2025-03-13T10:03:08.534558Z"
    }
   },
   "outputs": [
    {
     "name": "stdout",
     "output_type": "stream",
     "text": [
      "Using device: cuda\n"
     ]
    },
    {
     "data": {
      "application/vnd.jupyter.widget-view+json": {
       "model_id": "a9551b71420a46b3ba4ccabf52a6a351",
       "version_major": 2,
       "version_minor": 0
      },
      "text/plain": [
       "tokenizer_config.json:   0%|          | 0.00/48.0 [00:00<?, ?B/s]"
      ]
     },
     "metadata": {},
     "output_type": "display_data"
    },
    {
     "data": {
      "application/vnd.jupyter.widget-view+json": {
       "model_id": "96393c771e0042a788fc15c2462b3ad7",
       "version_major": 2,
       "version_minor": 0
      },
      "text/plain": [
       "vocab.txt:   0%|          | 0.00/232k [00:00<?, ?B/s]"
      ]
     },
     "metadata": {},
     "output_type": "display_data"
    },
    {
     "data": {
      "application/vnd.jupyter.widget-view+json": {
       "model_id": "dab3bf2fa5d6417c9a88cdda11a6f120",
       "version_major": 2,
       "version_minor": 0
      },
      "text/plain": [
       "tokenizer.json:   0%|          | 0.00/466k [00:00<?, ?B/s]"
      ]
     },
     "metadata": {},
     "output_type": "display_data"
    },
    {
     "data": {
      "application/vnd.jupyter.widget-view+json": {
       "model_id": "aaecc1d18c2147f78fa59a05c5c0aa94",
       "version_major": 2,
       "version_minor": 0
      },
      "text/plain": [
       "config.json:   0%|          | 0.00/570 [00:00<?, ?B/s]"
      ]
     },
     "metadata": {},
     "output_type": "display_data"
    },
    {
     "data": {
      "application/vnd.jupyter.widget-view+json": {
       "model_id": "6e7825fd462a4dffb7aeb8fc78cf76b0",
       "version_major": 2,
       "version_minor": 0
      },
      "text/plain": [
       "model.safetensors:   0%|          | 0.00/440M [00:00<?, ?B/s]"
      ]
     },
     "metadata": {},
     "output_type": "display_data"
    },
    {
     "name": "stderr",
     "output_type": "stream",
     "text": [
      "Some weights of BertForSequenceClassification were not initialized from the model checkpoint at bert-base-uncased and are newly initialized: ['classifier.bias', 'classifier.weight']\n",
      "You should probably TRAIN this model on a down-stream task to be able to use it for predictions and inference.\n"
     ]
    },
    {
     "name": "stdout",
     "output_type": "stream",
     "text": [
      "Epoch 1/90 - Average Loss: 5.6619\n",
      "Epoch 2/90 - Average Loss: 5.5883\n",
      "Epoch 3/90 - Average Loss: 5.5470\n",
      "Epoch 4/90 - Average Loss: 5.4290\n",
      "Epoch 5/90 - Average Loss: 5.2496\n",
      "Epoch 6/90 - Average Loss: 5.0645\n",
      "Epoch 7/90 - Average Loss: 4.8741\n",
      "Epoch 8/90 - Average Loss: 4.7122\n",
      "Epoch 9/90 - Average Loss: 4.5314\n",
      "Epoch 10/90 - Average Loss: 4.3852\n",
      "Epoch 11/90 - Average Loss: 4.2249\n",
      "Epoch 12/90 - Average Loss: 4.0838\n",
      "Epoch 13/90 - Average Loss: 3.9303\n",
      "Epoch 14/90 - Average Loss: 3.7829\n",
      "Epoch 15/90 - Average Loss: 3.6581\n",
      "Epoch 16/90 - Average Loss: 3.5259\n",
      "Epoch 17/90 - Average Loss: 3.3789\n",
      "Epoch 18/90 - Average Loss: 3.2480\n",
      "Epoch 19/90 - Average Loss: 3.1250\n",
      "Epoch 20/90 - Average Loss: 2.9910\n",
      "Epoch 21/90 - Average Loss: 2.8648\n",
      "Epoch 22/90 - Average Loss: 2.7338\n",
      "Epoch 23/90 - Average Loss: 2.6204\n",
      "Epoch 24/90 - Average Loss: 2.5009\n",
      "Epoch 25/90 - Average Loss: 2.3891\n",
      "Epoch 26/90 - Average Loss: 2.2775\n",
      "Epoch 27/90 - Average Loss: 2.1512\n",
      "Epoch 28/90 - Average Loss: 2.0413\n",
      "Epoch 29/90 - Average Loss: 1.9370\n",
      "Epoch 30/90 - Average Loss: 1.8393\n",
      "Epoch 31/90 - Average Loss: 1.7441\n",
      "Epoch 32/90 - Average Loss: 1.6401\n",
      "Epoch 33/90 - Average Loss: 1.5407\n",
      "Epoch 34/90 - Average Loss: 1.4577\n",
      "Epoch 35/90 - Average Loss: 1.3693\n",
      "Epoch 36/90 - Average Loss: 1.2951\n",
      "Epoch 37/90 - Average Loss: 1.2153\n",
      "Epoch 38/90 - Average Loss: 1.1336\n",
      "Epoch 39/90 - Average Loss: 1.0695\n",
      "Epoch 40/90 - Average Loss: 1.0081\n",
      "Epoch 41/90 - Average Loss: 0.9498\n",
      "Epoch 42/90 - Average Loss: 0.8879\n",
      "Epoch 43/90 - Average Loss: 0.8284\n",
      "Epoch 44/90 - Average Loss: 0.7808\n",
      "Epoch 45/90 - Average Loss: 0.7360\n",
      "Epoch 46/90 - Average Loss: 0.6892\n",
      "Epoch 47/90 - Average Loss: 0.6492\n",
      "Epoch 48/90 - Average Loss: 0.6026\n",
      "Epoch 49/90 - Average Loss: 0.5694\n",
      "Epoch 50/90 - Average Loss: 0.5378\n",
      "Epoch 51/90 - Average Loss: 0.5075\n",
      "Epoch 52/90 - Average Loss: 0.4727\n",
      "Epoch 53/90 - Average Loss: 0.4481\n",
      "Epoch 54/90 - Average Loss: 0.4278\n",
      "Epoch 55/90 - Average Loss: 0.4013\n",
      "Epoch 56/90 - Average Loss: 0.3765\n",
      "Epoch 57/90 - Average Loss: 0.3588\n",
      "Epoch 58/90 - Average Loss: 0.3379\n",
      "Epoch 59/90 - Average Loss: 0.3237\n",
      "Epoch 60/90 - Average Loss: 0.3053\n",
      "Epoch 61/90 - Average Loss: 0.2887\n",
      "Epoch 62/90 - Average Loss: 0.2751\n",
      "Epoch 63/90 - Average Loss: 0.2624\n",
      "Epoch 64/90 - Average Loss: 0.2491\n",
      "Epoch 65/90 - Average Loss: 0.2376\n",
      "Epoch 66/90 - Average Loss: 0.2225\n",
      "Epoch 67/90 - Average Loss: 0.2182\n",
      "Epoch 68/90 - Average Loss: 0.2059\n",
      "Epoch 69/90 - Average Loss: 0.1965\n",
      "Epoch 70/90 - Average Loss: 0.1880\n",
      "Epoch 71/90 - Average Loss: 0.1791\n",
      "Epoch 72/90 - Average Loss: 0.1692\n",
      "Epoch 73/90 - Average Loss: 0.1649\n",
      "Epoch 74/90 - Average Loss: 0.1574\n",
      "Epoch 75/90 - Average Loss: 0.1575\n",
      "Epoch 76/90 - Average Loss: 0.1470\n",
      "Epoch 77/90 - Average Loss: 0.1394\n",
      "Epoch 78/90 - Average Loss: 0.1344\n",
      "Epoch 79/90 - Average Loss: 0.1296\n",
      "Epoch 80/90 - Average Loss: 0.1253\n",
      "Epoch 81/90 - Average Loss: 0.1209\n",
      "Epoch 82/90 - Average Loss: 0.1161\n",
      "Epoch 83/90 - Average Loss: 0.1113\n",
      "Epoch 84/90 - Average Loss: 0.1074\n",
      "Epoch 85/90 - Average Loss: 0.1038\n",
      "Epoch 86/90 - Average Loss: 0.1011\n",
      "Epoch 87/90 - Average Loss: 0.0969\n",
      "Epoch 88/90 - Average Loss: 0.0925\n",
      "Epoch 89/90 - Average Loss: 0.0914\n",
      "Epoch 90/90 - Average Loss: 0.0881\n",
      "🤖 Chatbot is ready! Type 'exit' to stop.\n"
     ]
    },
    {
     "name": "stdin",
     "output_type": "stream",
     "text": [
      "You:  exit\n"
     ]
    },
    {
     "name": "stdout",
     "output_type": "stream",
     "text": [
      "Bot: Goodbye! 👋\n"
     ]
    }
   ],
   "source": [
    "import json\n",
    "import torch\n",
    "import os\n",
    "import torch.nn as nn\n",
    "import torch.optim as optim\n",
    "from torch.utils.data import Dataset, DataLoader\n",
    "from transformers import BertTokenizer, BertForSequenceClassification\n",
    "import torch.nn.functional as F\n",
    "from sklearn.utils.class_weight import compute_class_weight\n",
    "import numpy as np\n",
    "import random\n",
    "\n",
    "# Load JSON data\n",
    "with open(\"/kaggle/input/intents/intents.json\", \"r\") as file:\n",
    "    intents = json.load(file)\n",
    "\n",
    "# Remove duplicate intent tags\n",
    "unique_intents = []\n",
    "seen_tags = set()\n",
    "for intent in intents:\n",
    "    if intent[\"tag\"] not in seen_tags:\n",
    "        unique_intents.append(intent)\n",
    "        seen_tags.add(intent[\"tag\"])\n",
    "\n",
    "# Ensure unique intent tags\n",
    "intent_tags = [intent[\"tag\"] for intent in unique_intents]\n",
    "num_labels = len(intent_tags)\n",
    "\n",
    "# Create label mapping\n",
    "label_map = {tag: i for i, tag in enumerate(intent_tags)}\n",
    "\n",
    "# Check for GPU availability\n",
    "device = torch.device(\"cuda\" if torch.cuda.is_available() else \"cpu\")\n",
    "print(f\"Using device: {device}\")\n",
    "\n",
    "# Load BERT tokenizer & model\n",
    "tokenizer = BertTokenizer.from_pretrained('bert-base-uncased', token=secret_value_0)\n",
    "model = BertForSequenceClassification.from_pretrained('bert-base-uncased', num_labels=num_labels, token=secret_value_0)\n",
    "model.to(device)\n",
    "\n",
    "# Define Dataset\n",
    "class IntentDataset(Dataset):\n",
    "    def __init__(self, intents, tokenizer):\n",
    "        self.texts = []\n",
    "        self.labels = []\n",
    "        self.label_map = label_map\n",
    "\n",
    "        for intent in intents:\n",
    "            for pattern in intent[\"patterns\"]:\n",
    "                self.texts.append(pattern)\n",
    "                self.labels.append(self.label_map[intent[\"tag\"]])\n",
    "\n",
    "    def __len__(self):\n",
    "        return len(self.labels)\n",
    "\n",
    "    def __getitem__(self, idx):\n",
    "        text = self.texts[idx]\n",
    "        label = torch.tensor(self.labels[idx], dtype=torch.long).to(device)\n",
    "\n",
    "        encoding = tokenizer(text, truncation=True, padding=\"max_length\", max_length=32, return_tensors=\"pt\")\n",
    "        item = {key: val.squeeze(0).to(device) for key, val in encoding.items()}  # Remove batch dim\n",
    "\n",
    "        return item, label\n",
    "\n",
    "# Load dataset & dataloader\n",
    "dataset = IntentDataset(unique_intents, tokenizer)\n",
    "dataloader = DataLoader(dataset, batch_size=16, shuffle=True)  # Increased batch size\n",
    "\n",
    "# Compute class weights\n",
    "labels = [dataset.label_map[intent[\"tag\"]] for intent in unique_intents for _ in intent[\"patterns\"]]\n",
    "class_weights = compute_class_weight(\"balanced\", classes=np.unique(labels), y=labels)\n",
    "class_weights = torch.tensor(class_weights, dtype=torch.float).to(device)\n",
    "\n",
    "# Define optimizer & loss function\n",
    "optimizer = torch.optim.AdamW(model.parameters(), lr=2e-5)  # Lower learning rate\n",
    "loss_fn = torch.nn.CrossEntropyLoss(weight=class_weights)  # Use class-weighted loss\n",
    "\n",
    "# Training loop\n",
    "epochs = 90  # Increased from 20 to 50 for better training\n",
    "model.train()\n",
    "\n",
    "for epoch in range(epochs):\n",
    "    total_loss = 0\n",
    "    for batch in dataloader:\n",
    "        inputs, labels = batch\n",
    "        optimizer.zero_grad()\n",
    "        outputs = model(**inputs)\n",
    "        loss = loss_fn(outputs.logits, labels)\n",
    "        loss.backward()\n",
    "        optimizer.step()\n",
    "        total_loss += loss.item()\n",
    "    \n",
    "    avg_loss = total_loss / len(dataloader)\n",
    "    print(f\"Epoch {epoch+1}/{epochs} - Average Loss: {avg_loss:.4f}\")\n",
    "\n",
    "# Function to predict intent\n",
    "def predict_intent(user_input):\n",
    "    model.eval()\n",
    "    inputs = tokenizer(user_input, return_tensors=\"pt\", truncation=True, padding=True, max_length=32)\n",
    "    inputs = {key: val.to(device) for key, val in inputs.items()}  # Move input to GPU\n",
    "\n",
    "    with torch.no_grad():\n",
    "        outputs = model(**inputs)\n",
    "\n",
    "    predicted_label = torch.argmax(outputs.logits).item()\n",
    "    \n",
    "    # Map predicted label to intent\n",
    "    intent_tag = list(dataset.label_map.keys())[predicted_label]\n",
    "\n",
    "    # Fetch a random response for the predicted intent\n",
    "    for intent in unique_intents:\n",
    "        if intent[\"tag\"] == intent_tag:\n",
    "            return random.choice(intent[\"responses\"])\n",
    "\n",
    "# Run chatbot interaction\n",
    "print(\"🤖 Chatbot is ready! Type 'exit' to stop.\")\n",
    "while True:\n",
    "    user_input = input(\"You: \")\n",
    "    if user_input.lower() in [\"exit\", \"quit\"]:\n",
    "        print(\"Bot: Goodbye! 👋\")\n",
    "        break\n",
    "    response = predict_intent(user_input)\n",
    "    print(\"Bot:\", response)\n"
   ]
  },
  {
   "cell_type": "code",
   "execution_count": 3,
   "metadata": {
    "execution": {
     "iopub.execute_input": "2025-03-13T10:14:01.405815Z",
     "iopub.status.busy": "2025-03-13T10:14:01.405308Z",
     "iopub.status.idle": "2025-03-13T10:14:01.867874Z",
     "shell.execute_reply": "2025-03-13T10:14:01.866999Z",
     "shell.execute_reply.started": "2025-03-13T10:14:01.405792Z"
    }
   },
   "outputs": [
    {
     "name": "stdout",
     "output_type": "stream",
     "text": [
      "Test Accuracy: 1.0000\n"
     ]
    }
   ],
   "source": [
    "import torch\n",
    "from torch.utils.data import random_split\n",
    "from sklearn.metrics import accuracy_score\n",
    "\n",
    "# Split dataset into training (80%) and test (20%) sets\n",
    "train_size = int(0.8 * len(dataset))\n",
    "test_size = len(dataset) - train_size\n",
    "train_dataset, test_dataset = random_split(dataset, [train_size, test_size])\n",
    "\n",
    "# Create test dataloader\n",
    "test_dataloader = DataLoader(test_dataset, batch_size=16, shuffle=False)\n",
    "\n",
    "# Function to evaluate model accuracy\n",
    "def evaluate_model(model, test_dataloader):\n",
    "    model.eval()\n",
    "    all_preds, all_labels = [], []\n",
    "    \n",
    "    with torch.no_grad():\n",
    "        for batch in test_dataloader:\n",
    "            inputs, labels = batch\n",
    "            outputs = model(**inputs)\n",
    "            preds = torch.argmax(outputs.logits, dim=1)\n",
    "\n",
    "            all_preds.extend(preds.cpu().numpy())\n",
    "            all_labels.extend(labels.cpu().numpy())\n",
    "\n",
    "    accuracy = accuracy_score(all_labels, all_preds)\n",
    "    return accuracy\n",
    "\n",
    "# Compute accuracy\n",
    "test_accuracy = evaluate_model(model, test_dataloader)\n",
    "print(f\"Test Accuracy: {test_accuracy:.4f}\")\n"
   ]
  },
  {
   "cell_type": "code",
   "execution_count": 4,
   "metadata": {
    "execution": {
     "iopub.execute_input": "2025-03-13T10:14:01.869228Z",
     "iopub.status.busy": "2025-03-13T10:14:01.868962Z",
     "iopub.status.idle": "2025-03-13T10:14:03.262649Z",
     "shell.execute_reply": "2025-03-13T10:14:03.261892Z",
     "shell.execute_reply.started": "2025-03-13T10:14:01.869205Z"
    }
   },
   "outputs": [
    {
     "name": "stdout",
     "output_type": "stream",
     "text": [
      "Training Accuracy: 0.9939\n"
     ]
    }
   ],
   "source": [
    "def evaluate_train_accuracy(model, train_dataloader):\n",
    "    model.eval()\n",
    "    all_preds, all_labels = [], []\n",
    "    \n",
    "    with torch.no_grad():\n",
    "        for batch in train_dataloader:\n",
    "            inputs, labels = batch\n",
    "            outputs = model(**inputs)\n",
    "            preds = torch.argmax(outputs.logits, dim=1)\n",
    "\n",
    "            all_preds.extend(preds.cpu().numpy())\n",
    "            all_labels.extend(labels.cpu().numpy())\n",
    "\n",
    "    accuracy = accuracy_score(all_labels, all_preds)\n",
    "    return accuracy\n",
    "\n",
    "# Compute Training Accuracy\n",
    "train_dataloader = DataLoader(train_dataset, batch_size=16, shuffle=False)\n",
    "train_accuracy = evaluate_train_accuracy(model, train_dataloader)\n",
    "print(f\"Training Accuracy: {train_accuracy:.4f}\")\n"
   ]
  },
  {
   "cell_type": "code",
   "execution_count": 5,
   "metadata": {
    "execution": {
     "iopub.execute_input": "2025-03-13T10:14:03.263629Z",
     "iopub.status.busy": "2025-03-13T10:14:03.263411Z",
     "iopub.status.idle": "2025-03-13T10:22:02.539404Z",
     "shell.execute_reply": "2025-03-13T10:22:02.538512Z",
     "shell.execute_reply.started": "2025-03-13T10:14:03.263611Z"
    }
   },
   "outputs": [
    {
     "data": {
      "image/png": "[encoded data removed]",
      "text/plain": [
       "<Figure size 640x480 with 1 Axes>"
      ]
     },
     "metadata": {},
     "output_type": "display_data"
    }
   ],
   "source": [
    "import matplotlib.pyplot as plt\n",
    "\n",
    "# Assuming you store losses during training like this:\n",
    "train_losses = []\n",
    "test_losses = []\n",
    "\n",
    "for epoch in range(epochs):\n",
    "    total_train_loss = 0\n",
    "    total_test_loss = 0\n",
    "\n",
    "    model.train()\n",
    "    for batch in train_dataloader:\n",
    "        inputs, labels = batch\n",
    "        optimizer.zero_grad()\n",
    "        outputs = model(**inputs)\n",
    "        loss = loss_fn(outputs.logits, labels)\n",
    "        loss.backward()\n",
    "        optimizer.step()\n",
    "        total_train_loss += loss.item()\n",
    "    \n",
    "    model.eval()\n",
    "    with torch.no_grad():\n",
    "        for batch in test_dataloader:\n",
    "            inputs, labels = batch\n",
    "            outputs = model(**inputs)\n",
    "            loss = loss_fn(outputs.logits, labels)\n",
    "            total_test_loss += loss.item()\n",
    "\n",
    "    train_losses.append(total_train_loss / len(train_dataloader))\n",
    "    test_losses.append(total_test_loss / len(test_dataloader))\n",
    "\n",
    "# Plot the loss curves\n",
    "plt.plot(range(1, epochs+1), train_losses, label=\"Train Loss\")\n",
    "plt.plot(range(1, epochs+1), test_losses, label=\"Test Loss\")\n",
    "plt.xlabel(\"Epochs\")\n",
    "plt.ylabel(\"Loss\")\n",
    "plt.legend()\n",
    "plt.title(\"Training vs. Test Loss\")\n",
    "plt.show()\n"
   ]
  },
  {
   "cell_type": "code",
   "execution_count": 6,
   "metadata": {
    "execution": {
     "iopub.execute_input": "2025-03-13T10:22:02.540339Z",
     "iopub.status.busy": "2025-03-13T10:22:02.540114Z",
     "iopub.status.idle": "2025-03-13T10:22:02.642619Z",
     "shell.execute_reply": "2025-03-13T10:22:02.642022Z",
     "shell.execute_reply.started": "2025-03-13T10:22:02.540320Z"
    }
   },
   "outputs": [
    {
     "name": "stdout",
     "output_type": "stream",
     "text": [
      "User: Tell me a joke\n",
      "Bot: Why don't skeletons fight each other? They don't have the guts!\n",
      "\n",
      "User: Recommend a good book\n",
      "Bot: Reading books can broaden your knowledge, enhance creativity, and provide a great way to relax.\n",
      "\n",
      "User: What's the weather like today?\n",
      "Bot: You can check the weather on a weather app or website.\n",
      "\n",
      "User: How can I save money?\n",
      "Bot: Investing in stocks, mutual funds, or real estate can help grow your wealth over time.\n",
      "\n",
      "User: How do I meditate?\n",
      "Bot: Meditation can reduce stress, improve focus, and promote emotional well-being.\n",
      "\n"
     ]
    }
   ],
   "source": [
    "test_inputs = [\n",
    "    \"Tell me a joke\", \n",
    "    \"Recommend a good book\", \n",
    "    \"What's the weather like today?\", \n",
    "    \"How can I save money?\", \n",
    "    \"How do I meditate?\"\n",
    "]\n",
    "\n",
    "for input_text in test_inputs:\n",
    "    response = predict_intent(input_text)\n",
    "    print(f\"User: {input_text}\\nBot: {response}\\n\")\n"
   ]
  },
  {
   "cell_type": "code",
   "execution_count": 7,
   "metadata": {
    "execution": {
     "iopub.execute_input": "2025-03-13T10:33:46.308702Z",
     "iopub.status.busy": "2025-03-13T10:33:46.308278Z",
     "iopub.status.idle": "2025-03-13T10:33:46.964362Z",
     "shell.execute_reply": "2025-03-13T10:33:46.963545Z",
     "shell.execute_reply.started": "2025-03-13T10:33:46.308678Z"
    }
   },
   "outputs": [
    {
     "name": "stdout",
     "output_type": "stream",
     "text": [
      "Model saved to bert_chatbot_model.pth\n",
      "Tokenizer saved to bert_chatbot_tokenizer\n"
     ]
    }
   ],
   "source": [
    "# Define save paths\n",
    "model_path = \"bert_chatbot_model.pth\"\n",
    "tokenizer_path = \"bert_chatbot_tokenizer\"\n",
    "\n",
    "# Save model state dictionary\n",
    "torch.save(model.state_dict(), model_path)\n",
    "\n",
    "# Save tokenizer\n",
    "tokenizer.save_pretrained(tokenizer_path)\n",
    "\n",
    "print(f\"Model saved to {model_path}\")\n",
    "print(f\"Tokenizer saved to {tokenizer_path}\")"
   ]
  },
  {
   "cell_type": "code",
   "execution_count": 8,
   "metadata": {
    "execution": {
     "iopub.execute_input": "2025-03-13T10:38:56.933623Z",
     "iopub.status.busy": "2025-03-13T10:38:56.933265Z",
     "iopub.status.idle": "2025-03-13T10:38:57.968705Z",
     "shell.execute_reply": "2025-03-13T10:38:57.967785Z",
     "shell.execute_reply.started": "2025-03-13T10:38:56.933591Z"
    }
   },
   "outputs": [
    {
     "data": {
      "text/plain": [
       "('chatbot_model/tokenizer_config.json',\n",
       " 'chatbot_model/special_tokens_map.json',\n",
       " 'chatbot_model/vocab.txt',\n",
       " 'chatbot_model/added_tokens.json')"
      ]
     },
     "execution_count": 8,
     "metadata": {},
     "output_type": "execute_result"
    }
   ],
   "source": [
    "model.save_pretrained(\"chatbot_model\")\n",
    "tokenizer.save_pretrained(\"chatbot_model\")"
   ]
  }
 ],
 "metadata": {
  "kaggle": {
   "accelerator": "nvidiaTeslaT4",
   "dataSources": [
    {
     "datasetId": 6859551,
     "sourceId": 11016856,
     "sourceType": "datasetVersion"
    }
   ],
   "dockerImageVersionId": 30919,
   "isGpuEnabled": true,
   "isInternetEnabled": true,
   "language": "python",
   "sourceType": "notebook"
  },
  "kernelspec": {
   "display_name": "Python 3 (ipykernel)",
   "language": "python",
   "name": "python3"
  },
  "language_info": {
   "codemirror_mode": {
    "name": "ipython",
    "version": 3
   },
   "file_extension": ".py",
   "mimetype": "text/x-python",
   "name": "python",
   "nbconvert_exporter": "python",
   "pygments_lexer": "ipython3",
   "version": "3.8.20"
  }
 },
 "nbformat": 4,
 "nbformat_minor": 4
}
